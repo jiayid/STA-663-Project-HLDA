{
 "cells": [
  {
   "cell_type": "code",
   "execution_count": 3,
   "metadata": {},
   "outputs": [
    {
     "name": "stdout",
     "output_type": "stream",
     "text": [
      "Requirement already satisfied: hierarchical_lda_ncrp in /opt/conda/lib/python3.6/site-packages/hierarchical_lda_ncrp-0.1-py3.6.egg\n"
     ]
    },
    {
     "name": "stderr",
     "output_type": "stream",
     "text": [
      "You are using pip version 9.0.1, however version 19.0.3 is available.\n",
      "You should consider upgrading via the 'pip install --upgrade pip' command.\n"
     ]
    }
   ],
   "source": [
    "%%bash\n",
    "\n",
    "pip install --index-url https://test.pypi.org/simple/ hierarchical_lda_ncrp"
   ]
  },
  {
   "cell_type": "code",
   "execution_count": 1,
   "metadata": {},
   "outputs": [],
   "source": [
    "import hierarchical_lda_ncrp\n",
    "import nltk\n",
    "nltk.download('stopwords')\n",
    "from nltk.corpus import stopwords\n",
    "from hierarchical_lda_ncrp import hLDA"
   ]
  },
  {
   "cell_type": "code",
   "execution_count": 3,
   "metadata": {},
   "outputs": [],
   "source": [
    "stop_words = set(stopwords.words('english'))\n",
    "with open(\"abstract.txt\") as f:\n",
    "    data = f.read()\n",
    "    data = data.strip('\\n')\n",
    "    data_cleaned = data.split('\\n\\n')\n",
    "    \n",
    "cs = [\",\", \".\", \"’\", \"”\", \"“\", \"?\", \"!\", \":\", \"\\n\", \";\", \"\\\\\", \"-\", \"—\", \"$\", \"/\", \"(\", \")\", \"–\", \"[\", \"]\"]\n",
    "corpus = []\n",
    "for i in range(len(data_cleaned)):\n",
    "    data = data_cleaned[i]\n",
    "    for x in cs:\n",
    "        data = data.replace(x, '')\n",
    "    word = data.lower().split(' ')\n",
    "    no_stop = []\n",
    "    for j in word:\n",
    "        if j not in stop_words:\n",
    "            no_stop.append(j)\n",
    "    corpus.append(no_stop)"
   ]
  },
  {
   "cell_type": "code",
   "execution_count": 4,
   "metadata": {},
   "outputs": [],
   "source": [
    "# Comparative Analysis\n",
    "from gensim.models import LdaModel, HdpModel\n",
    "from gensim.corpora import Dictionary\n",
    "from gensim.models.coherencemodel import CoherenceModel\n",
    "\n",
    "\n",
    "def coherence_input(hlda_object):\n",
    "    \"\"\"\n",
    "    return a list of lists for coherence\n",
    "    \n",
    "    input: output of the hlda function, which includes the tree and the index \n",
    "    \n",
    "    output: a list of lists, sample a path\n",
    "    \"\"\" \n",
    "    c_input = []\n",
    "    tree = hlda_object[0]\n",
    "    struc = hlda_object[1]\n",
    "    n = 0\n",
    "    idx = 0\n",
    "    c_input.append(tree[0][0])\n",
    "    \n",
    "    for i in range(1, len(struc)):\n",
    "        if struc[i][idx] == 0:\n",
    "            break\n",
    "        n = 0\n",
    "        for j in range(idx):\n",
    "            n += struc[i][j]\n",
    "        idx = n + np.random.choice(struc[i][idx],1)[0]   \n",
    "        c_input.append(tree[i][idx]) \n",
    "    return c_input\n",
    "\n",
    "\n",
    "def hlda_coherence(hlda_object,dictionary,corpus,iterations):\n",
    "    \"\"\"\n",
    "    calculate the coherence for hlda model\n",
    "    \n",
    "    input: \n",
    "        hlda_object, output of the hlda function, which includes the tree and the index \n",
    "        \n",
    "        dictionary, Dictionary for the input corpus\n",
    "        \n",
    "        corpus, a list of lists\n",
    "        \n",
    "        iterations, number of times for sampling a path \n",
    "    \n",
    "    output: float number, coherence calculated for hlda model\n",
    "    \"\"\" \n",
    "    S = 0 \n",
    "    n = 0\n",
    "    for i in range(iterations):\n",
    "        tes = coherence_input(hlda_object)\n",
    "        cm_hlda = CoherenceModel(topics=tes, corpus=corpus, dictionary=dictionary, coherence='u_mass')\n",
    "        hlda_cohe = cm_hlda.get_coherence()\n",
    "        if not np.isnan(hlda_cohe):\n",
    "            n += 1 \n",
    "            S += hlda_cohe\n",
    "    \n",
    "    avg = S/n\n",
    "    return avg\n",
    "\n",
    "\n",
    "def comp_analysis(corpus, hlda_object, n_topics = 10, iterations = 10000):   \n",
    "    \"\"\"\n",
    "    print coherence for HLDA, LDA, HDP model\n",
    "    \n",
    "    input: \n",
    "        corpus, a list of lists\n",
    "        \n",
    "        hlda_object, output of the hlda function, which includes the tree and the index \n",
    "        \n",
    "        n_topics, number of topics presepcfied\n",
    "        \n",
    "        iterations, number of times for sampling a path \n",
    "    \n",
    "    \"\"\"    \n",
    "    dictionary2 = Dictionary(corpus)\n",
    "    corpus2 = [dictionary2.doc2bow(text) for text in corpus]\n",
    "\n",
    "    hdpmodel = HdpModel(corpus=corpus2, id2word=dictionary2)\n",
    "    ldamodel = LdaModel(corpus=corpus2, num_topics=n_topics, id2word=dictionary2)\n",
    "    cm_lda = CoherenceModel(model=ldamodel, corpus=corpus2, coherence='u_mass')\n",
    "    cm_hdp = CoherenceModel(model=hdpmodel, corpus=corpus2, coherence='u_mass')\n",
    "    \n",
    "    lda_cohe = cm_lda.get_coherence()\n",
    "    hdp_cohe = cm_hdp.get_coherence()\n",
    "    hlda_cohe = hlda_coherence(hlda_object,dictionary2,corpus2,iterations=10000)\n",
    "    \n",
    "    print(\"Coherence for HLDA is %.2f\" %hlda_cohe)\n",
    "    print(\"Coherence for LDA is %.2f\" %lda_cohe)\n",
    "    print(\"Coherence for HDP is %.2f\" %hdp_cohe)    "
   ]
  },
  {
   "cell_type": "code",
   "execution_count": null,
   "metadata": {},
   "outputs": [],
   "source": [
    "hlda_object = hLDA(corpus, alpha=0.1, beta=0.01, gamma=0.6, eta=0.01, ite=20, level=10)"
   ]
  },
  {
   "cell_type": "code",
   "execution_count": null,
   "metadata": {},
   "outputs": [],
   "source": [
    "comp_analysis(corpus, hlda_object, n_topics = 10, iterations = 1000)"
   ]
  }
 ],
 "metadata": {
  "kernelspec": {
   "display_name": "Python 3",
   "language": "python",
   "name": "python3"
  },
  "language_info": {
   "codemirror_mode": {
    "name": "ipython",
    "version": 3
   },
   "file_extension": ".py",
   "mimetype": "text/x-python",
   "name": "python",
   "nbconvert_exporter": "python",
   "pygments_lexer": "ipython3",
   "version": "3.6.5"
  }
 },
 "nbformat": 4,
 "nbformat_minor": 2
}
